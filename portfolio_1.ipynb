{
 "cells": [
  {
   "cell_type": "code",
   "execution_count": 102,
   "metadata": {},
   "outputs": [],
   "source": [
    "import csv\n",
    "import pandas as pd\n",
    "import numpy \n",
    "import matplotlib.pyplot as plt"
   ]
  },
  {
   "cell_type": "code",
   "execution_count": 103,
   "metadata": {},
   "outputs": [
    {
     "name": "stdout",
     "output_type": "stream",
     "text": [
      "      age     sex     bmi  children smoker     region      charges\n",
      "0      19  female  27.900         0    yes  southwest  16884.92400\n",
      "1      18    male  33.770         1     no  southeast   1725.55230\n",
      "2      28    male  33.000         3     no  southeast   4449.46200\n",
      "3      33    male  22.705         0     no  northwest  21984.47061\n",
      "4      32    male  28.880         0     no  northwest   3866.85520\n",
      "...   ...     ...     ...       ...    ...        ...          ...\n",
      "1333   50    male  30.970         3     no  northwest  10600.54830\n",
      "1334   18  female  31.920         0     no  northeast   2205.98080\n",
      "1335   18  female  36.850         0     no  southeast   1629.83350\n",
      "1336   21  female  25.800         0     no  southwest   2007.94500\n",
      "1337   61  female  29.070         0    yes  northwest  29141.36030\n",
      "\n",
      "[1338 rows x 7 columns]\n"
     ]
    }
   ],
   "source": [
    "df = pd.read_csv(r'C:\\Users\\ajdic\\Desktop\\Portfolio 1\\insurance.csv')\n",
    "print(df)"
   ]
  },
  {
   "cell_type": "code",
   "execution_count": 104,
   "metadata": {},
   "outputs": [],
   "source": [
    "# extract each column as a separate variable\n",
    "age = df['age'].tolist()\n",
    "sex = df['sex'].tolist()\n",
    "bmi =  df['bmi'].tolist()\n",
    "children = df['children'].tolist()\n",
    "smoker = df['smoker'].tolist()\n",
    "region = df['region'].tolist()\n",
    "charges = df['charges'].tolist()\n"
   ]
  },
  {
   "cell_type": "code",
   "execution_count": 105,
   "metadata": {},
   "outputs": [
    {
     "name": "stdout",
     "output_type": "stream",
     "text": [
      "Average age of a patient is: 39.21 years.\n"
     ]
    }
   ],
   "source": [
    "average_age = numpy.average(age)\n",
    "average_age = round(average_age, 2)\n",
    "print(\"Average age of a patient is: \" + str(average_age) + \" years.\")"
   ]
  },
  {
   "cell_type": "code",
   "execution_count": 106,
   "metadata": {},
   "outputs": [
    {
     "name": "stdout",
     "output_type": "stream",
     "text": [
      "{'southwest': 325, 'southeast': 364, 'northwest': 325, 'northeast': 324}\n"
     ]
    }
   ],
   "source": [
    "def individuals_from(a):\n",
    "    location = {}\n",
    "    for j in a:\n",
    "        if j in location:\n",
    "            location[j] += 1\n",
    "        else:\n",
    "            location[j] = 1\n",
    "    return location\n",
    "\n",
    "num_location = individuals_from(region)\n",
    "print(num_location)\n",
    "\n"
   ]
  },
  {
   "cell_type": "code",
   "execution_count": 107,
   "metadata": {},
   "outputs": [
    {
     "name": "stdout",
     "output_type": "stream",
     "text": [
      "{'yes': 274, 'no': 1064}\n"
     ]
    }
   ],
   "source": [
    "def smoker_status(smoker):\n",
    "    status = {}\n",
    "    for i in smoker:\n",
    "        if i in status:\n",
    "            status[i] += 1\n",
    "        else:\n",
    "            status[i] = 1\n",
    "    return status\n",
    "\n",
    "\n",
    "print(smoker_status(smoker))"
   ]
  },
  {
   "cell_type": "code",
   "execution_count": 108,
   "metadata": {},
   "outputs": [
    {
     "name": "stdout",
     "output_type": "stream",
     "text": [
      "{'female': 662, 'male': 676}\n"
     ]
    }
   ],
   "source": [
    "def num_gender(sex):\n",
    "    gender = {}\n",
    "    for i in sex:\n",
    "        if i in gender:\n",
    "            gender[i] += 1\n",
    "        else:\n",
    "            gender[i] = 1\n",
    "    return gender\n",
    "\n",
    "\n",
    "print(num_gender(sex))"
   ]
  },
  {
   "cell_type": "code",
   "execution_count": 109,
   "metadata": {},
   "outputs": [
    {
     "name": "stdout",
     "output_type": "stream",
     "text": [
      "{19: 0, 18: 0, 28: 2, 33: 0, 32: 4, 31: 1, 46: 3, 37: 3, 60: 0, 25: 0, 62: 0, 23: 0, 56: 0, 27: 1, 52: 3, 30: 3, 34: 1, 59: 1, 63: 0, 55: 0, 22: 0, 26: 0, 35: 4, 24: 0, 41: 2, 38: 2, 36: 1, 21: 0, 48: 0, 40: 4, 58: 0, 53: 3, 43: 0, 64: 0, 20: 1, 61: 0, 44: 1, 57: 2, 29: 0, 45: 0, 54: 1, 49: 2, 47: 0, 51: 1, 42: 0, 50: 3, 39: 2}\n",
      "The average age of people with kids is: 39.78\n"
     ]
    }
   ],
   "source": [
    "age_children = list(zip(age, children))\n",
    "\n",
    "parent_age = {}\n",
    "\n",
    "for item in age_children:\n",
    "    parent_age[item[0]] = item[1]\n",
    "\n",
    "print(parent_age)\n",
    "\n",
    "\n",
    "# Get a list of tuples containing the age and number of kids for each person in the dictionary\n",
    "ages_with_kids = [age for age, num_kids in age_children if num_kids > 0]\n",
    "\n",
    "if len(ages_with_kids) > 0:\n",
    "    # Calculate the average age of people with kids\n",
    "    avg_age_with_kids = sum(ages_with_kids) / len(ages_with_kids)\n",
    "    avg_age_with_kids = round(avg_age_with_kids, 2)\n",
    "    print(\"The average age of people with kids is:\", avg_age_with_kids)\n",
    "else:\n",
    "    print(\"No person in the list has kids\")"
   ]
  },
  {
   "cell_type": "code",
   "execution_count": 110,
   "metadata": {},
   "outputs": [
    {
     "name": "stdout",
     "output_type": "stream",
     "text": [
      "The difference in insurance cost between smokers and non-smokers is: -192297.95 (smokers have lower sum of costs). But we need to remember\n",
      "that in our dataset is around 800 less smokers than non-smokers.\n",
      "Total insurance cost for all 274 smokers is: 8781763.52.\n",
      "Total insurance cost for all 1064 non-smokers is: 8974061.47.\n",
      "Average insurance cost for non-smokers is: 8434.27.\n",
      "Average insurance cost for smokers is: 32050.23. This is: 3.8 higher than for non-smokers.\n"
     ]
    }
   ],
   "source": [
    "smokstat_price = list(zip(charges, smoker))\n",
    "\n",
    "non_smoker_cost = [cost for cost, smoker_status in smokstat_price if smoker_status == \"no\" ]\n",
    "smoker_cost = [cost for cost, smoker_status in smokstat_price if smoker_status == \"yes\"]\n",
    "\n",
    "cost_non = round(sum(non_smoker_cost),2)\n",
    "cost_yes = round(sum(smoker_cost), 2)\n",
    "\n",
    "cost_dif = sum(smoker_cost) - sum(non_smoker_cost)\n",
    "cost_dif = round(cost_dif, 2)\n",
    "\n",
    "\n",
    "avg_non = numpy.average(non_smoker_cost)\n",
    "avg_non = round(avg_non, 2)\n",
    "avg_smok = numpy.average(smoker_cost)\n",
    "avg_smok = round(avg_smok, 2)\n",
    "how_many_more = round(avg_smok/avg_non, 2)\n",
    "\n",
    "print(\"The difference in insurance cost between smokers and non-smokers is: \" + str(cost_dif) + \" (smokers have lower sum of costs).\" + \" But we need to remember\\nthat in our dataset is around 800 less smokers than non-smokers.\")\n",
    "print(\"Total insurance cost for all 274 smokers is: \" + str(cost_yes) + \".\")\n",
    "print(\"Total insurance cost for all 1064 non-smokers is: \" + str(cost_non) + \".\")\n",
    "print(\"Average insurance cost for non-smokers is: \" + str(avg_non) + \".\")\n",
    "print(\"Average insurance cost for smokers is: \" + str(avg_smok) + \". This is: \" + str(how_many_more) + \" higher than for non-smokers.\")\n"
   ]
  },
  {
   "cell_type": "code",
   "execution_count": 111,
   "metadata": {},
   "outputs": [
    {
     "name": "stdout",
     "output_type": "stream",
     "text": [
      "Non-smokers have average BMI: 30.65\n",
      "Smokers have average BMI: 31\n"
     ]
    }
   ],
   "source": [
    "#Are smokers havier than non-smokers\n",
    "smok_bmi = list(zip(bmi, smoker))\n",
    "\n",
    "non_smoker_bmi = [bmi for bmi, smoker_stat in smok_bmi if smoker_stat == \"no\"] \n",
    "smoker_bmi = [bmi for bmi, smoker_stat in smok_bmi if smoker_stat == \"yes\"] \n",
    "\n",
    "avg_bmi_smoker = numpy.average(non_smoker_bmi)\n",
    "avg_bmi_smoker = round(avg_bmi_smoker, 2)\n",
    "avg_bmi_nonsmoker = numpy.average(smoker_bmi)\n",
    "avg_bmi_nonsmoker = round(avg_bmi_nonsmoker)\n",
    "\n",
    "print(\"Non-smokers have average BMI: \" + str(avg_bmi_smoker))\n",
    "print(\"Smokers have average BMI: \" + str(avg_bmi_nonsmoker))\n"
   ]
  }
 ],
 "metadata": {
  "kernelspec": {
   "display_name": "Python 3",
   "language": "python",
   "name": "python3"
  },
  "language_info": {
   "codemirror_mode": {
    "name": "ipython",
    "version": 3
   },
   "file_extension": ".py",
   "mimetype": "text/x-python",
   "name": "python",
   "nbconvert_exporter": "python",
   "pygments_lexer": "ipython3",
   "version": "3.9.13"
  },
  "orig_nbformat": 4
 },
 "nbformat": 4,
 "nbformat_minor": 2
}
